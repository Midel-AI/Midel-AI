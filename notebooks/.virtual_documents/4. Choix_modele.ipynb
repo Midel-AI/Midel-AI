








import shap
import dill
import numpy as np

# 1. Extraire les composants du pipeline
preprocessor = best_pipeline_LightGBM.named_steps['preproc']
model = best_pipeline_LightGBM.named_steps['clf']

# 2. Appliquer la transformation sur X_train
X_transformed = preprocessor.transform(X_train)

# 3. Convertir en array si nécessaire (utile si X_transformed est sparse)
if hasattr(X_transformed, 'toarray'):
    X_transformed = X_transformed.toarray()

# 4. Récupérer les noms de variables après transformation
feature_names = preprocessor.get_feature_names_out()

# 5. Créer l'explainer SHAP pour le modèle LightGBM
explainer_LightGBM = shap.TreeExplainer(model)

# 6. Calculer les valeurs SHAP (désactiver le check d’additivité pour éviter les erreurs)
shap_values_LightGBM = explainer_LightGBM(X_transformed, check_additivity=False)

# 7. Enregistrer les valeurs SHAP
with open('shap_values_LightGBM.dill', 'wb') as f:
    dill.dump(shap_values_LightGBM, f)

# 8. Recharger les valeurs SHAP
with open('shap_values_LightGBM.dill', 'rb') as f:
    loaded_shap_values_LightGBM = dill.load(f)

# 9. Visualisation globale (summary plot)
shap.summary_plot(loaded_shap_values_LightGBM, X_transformed, feature_names=feature_names)



import shap

# Recréer un nouvel objet Explanation avec les bons noms
shap_values_corrected = shap.Explanation(
    values=loaded_shap_values_LightGBM.values,
    base_values=loaded_shap_values_LightGBM.base_values,
    data=X_transformed,
    feature_names=feature_names
)

# Maintenant tu peux afficher le bar chart avec les bons noms
shap.plots.bar(shap_values_corrected, max_display=20)







